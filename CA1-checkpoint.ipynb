{
 "cells": [
  {
   "cell_type": "code",
   "execution_count": 6,
   "id": "906f05ad-b187-4448-b59d-02b7e2eecc73",
   "metadata": {},
   "outputs": [
    {
     "name": "stdout",
     "output_type": "stream",
     "text": [
      "Sum: 13.700000000000001, Average: 4.566666666666667\n"
     ]
    }
   ],
   "source": [
    "#1.\tWrite a program in Python to find the addition & average of three float numbers.\n",
    "num1, num2, num3 = 3.5, 7.8, 2.4\n",
    "sum_numbers = num1 + num2 + num3\n",
    "average = sum_numbers / 3\n",
    "print(f'Sum: {sum_numbers}, Average: {average}')"
   ]
  },
  {
   "cell_type": "code",
   "execution_count": 8,
   "id": "9eb0126d-8e1b-449c-8d01-45bc4a4effef",
   "metadata": {},
   "outputs": [
    {
     "name": "stdout",
     "output_type": "stream",
     "text": [
      "The volume of the sphere is:  904.7786842338603\n"
     ]
    }
   ],
   "source": [
    " #2. Write a program in Python to find the volume of a sphere with radius  6cm\n",
    "pi = 3.1415926535897931\n",
    "r = 6.0\n",
    "V = 4.0/3.0 * pi * r**3\n",
    "print('The volume of the sphere is: ', V)"
   ]
  },
  {
   "cell_type": "code",
   "execution_count": 10,
   "id": "4951e803-aa5f-45aa-afe6-f0cda0fe1187",
   "metadata": {},
   "outputs": [
    {
     "name": "stdout",
     "output_type": "stream",
     "text": [
      "Area of circle is: 50.26548245743669\n"
     ]
    }
   ],
   "source": [
    "#3.\tWrite a program in Python to find the area of a circle\n",
    "import math\n",
    "def area(r):\n",
    "  area = math.pi* pow(r,2)\n",
    "  return print('Area of circle is:' ,area)\n",
    "area(4)\n"
   ]
  },
  {
   "cell_type": "code",
   "execution_count": 14,
   "id": "d4c968c7-e69c-4a93-856f-d9d73b131ead",
   "metadata": {},
   "outputs": [
    {
     "name": "stdout",
     "output_type": "stream",
     "text": [
      "The principal is 5\n",
      "The time period is 7\n",
      "The rate of interest is 7\n",
      "The Simple Interest is 2.45\n"
     ]
    },
    {
     "data": {
      "text/plain": [
       "2.45"
      ]
     },
     "execution_count": 14,
     "metadata": {},
     "output_type": "execute_result"
    }
   ],
   "source": [
    " #4.Write a program in Python to compute simple Interest.\n",
    "def simple_interest(p,t,r):\n",
    "    print('The principal is', p)\n",
    "    print('The time period is', t)\n",
    "    print('The rate of interest is',r)\n",
    "    si = (p * t * r)/100\n",
    "    print('The Simple Interest is', si)\n",
    "    return si\n",
    "simple_interest(5, 7, 7)\n"
   ]
  },
  {
   "cell_type": "code",
   "execution_count": 18,
   "id": "f79e3f67-23b0-4238-a742-d38c81bb2bd1",
   "metadata": {},
   "outputs": [
    {
     "name": "stdout",
     "output_type": "stream",
     "text": [
      "Before swapping: \n",
      "Value of x :  10  and y :  15\n",
      "After swapping: \n",
      "Value of x :  15  and y :  10\n"
     ]
    }
   ],
   "source": [
    "#5.\tWrite a program in Python to swap two numbers without using third variable\n",
    "x = 10\n",
    "y = 15\n",
    "print (\"Before swapping: \")\n",
    "print(\"Value of x : \", x, \" and y : \", y)\n",
    "x, y = y, x\n",
    "print (\"After swapping: \")\n",
    "print(\"Value of x : \", x, \" and y : \", y)\n"
   ]
  },
  {
   "cell_type": "code",
   "execution_count": 20,
   "id": "b7f673e5-56e2-4d16-89ae-5b64867a7a66",
   "metadata": {},
   "outputs": [
    {
     "name": "stdin",
     "output_type": "stream",
     "text": [
      "Enter temperature in Celsius:  47\n"
     ]
    },
    {
     "name": "stdout",
     "output_type": "stream",
     "text": [
      "47.0°C is equal to 116.6°F\n"
     ]
    }
   ],
   "source": [
    "#6.\tWrite a program in Python to convert any temperature from Celcius to Fahrenheit. \n",
    "def celsius_to_fahrenheit(celsius):\n",
    "    fahrenheit = (celsius * 9/5) + 32\n",
    "    return fahrenheit\n",
    "celsius = float(input(\"Enter temperature in Celsius: \"))\n",
    "fahrenheit = celsius_to_fahrenheit(celsius)\n",
    "print(f\"{celsius}°C is equal to {fahrenheit}°F\")\n"
   ]
  },
  {
   "cell_type": "code",
   "execution_count": 43,
   "id": "3e10d8dd-d9a4-4d81-91fa-95e86f8ad0bd",
   "metadata": {},
   "outputs": [
    {
     "name": "stdout",
     "output_type": "stream",
     "text": [
      "Enter the Number of Days: \n"
     ]
    },
    {
     "name": "stdin",
     "output_type": "stream",
     "text": [
      " 385\n"
     ]
    },
    {
     "name": "stdout",
     "output_type": "stream",
     "text": [
      "Total Number of Year(s): \n",
      "1\n",
      "Total Number of Week(s):\n",
      "2\n",
      "Total Number of Day(s):\n",
      "6\n"
     ]
    }
   ],
   "source": [
    "#7.\tWrite a program in Python to convert a given number of days into days, month, year and week.\n",
    "print(\"Enter the Number of Days: \")\n",
    "num = int(input())\n",
    "\n",
    "year = int(num/365)\n",
    "week = int((num%365)/7)\n",
    "days = int((num%365)%7)\n",
    "\n",
    "print(\"Total Number of Year(s): \")\n",
    "print(year)\n",
    "print(\"Total Number of Week(s):\")\n",
    "print(week)\n",
    "print(\"Total Number of Day(s):\")\n",
    "print(days)"
   ]
  },
  {
   "cell_type": "code",
   "execution_count": 59,
   "id": "e02eb9c7-01c3-4366-8ccc-99bd34ff469d",
   "metadata": {},
   "outputs": [
    {
     "name": "stdin",
     "output_type": "stream",
     "text": [
      "Enter the first mass:  70000000\n",
      "Enter the second mass:  9000000\n",
      "Enter the distance between the centres of the masses:  20\n"
     ]
    },
    {
     "name": "stdout",
     "output_type": "stream",
     "text": [
      "Hence, the gravitational force is:  105.1 N\n"
     ]
    }
   ],
   "source": [
    "#8.\tWrite a Python Program to find the gravitational force acting between two objects.\n",
    "#[G=N*(m1*m2)/d^2]\n",
    "m1=float(input(\"Enter the first mass: \"))\n",
    "m2=float(input(\"Enter the second mass: \"))\n",
    "d=float(input(\"Enter the distance between the centres of the masses: \"))\n",
    "G=6.673*(10**-11)\n",
    "f=(G*m1*m2)/(d**2)\n",
    "print(\"Hence, the gravitational force is: \",round(f,2),\"N\")"
   ]
  },
  {
   "cell_type": "code",
   "execution_count": 65,
   "id": "167118d5-72bf-4bb7-958b-b75e1ba5e1a7",
   "metadata": {},
   "outputs": [
    {
     "name": "stdin",
     "output_type": "stream",
     "text": [
      "Enter a number:  8\n"
     ]
    },
    {
     "name": "stdout",
     "output_type": "stream",
     "text": [
      "8 is Even\n"
     ]
    }
   ],
   "source": [
    "#9.\tWrite a program in Python to find given no is Even or Odd.\n",
    "num = int(input(\"Enter a number: \"))\n",
    "if (num % 2) == 0:\n",
    "   print(\"{0} is Even\".format(num))\n",
    "else:\n",
    "   print(\"{0} is Odd\".format(num))"
   ]
  },
  {
   "cell_type": "code",
   "execution_count": 139,
   "id": "32383af3-77e3-49f6-8d01-3db5efffd1cc",
   "metadata": {},
   "outputs": [
    {
     "name": "stdin",
     "output_type": "stream",
     "text": [
      "Enter a number :  6\n"
     ]
    },
    {
     "name": "stdout",
     "output_type": "stream",
     "text": [
      "36\n"
     ]
    }
   ],
   "source": [
    "#10.Take input from user if it is greater than 15 print two times of difference if it’s less than 15 print four times of difference.\n",
    "num = int(input(\"Enter a number : \"))\n",
    "\n",
    "if num > 15 :\n",
    "    print(2*(abs(num-15)))\n",
    "else:\n",
    "    print(4*(abs(num-15)))"
   ]
  },
  {
   "cell_type": "code",
   "execution_count": 67,
   "id": "b6460de7-7a0a-447a-9df3-762d26651c93",
   "metadata": {},
   "outputs": [
    {
     "name": "stdout",
     "output_type": "stream",
     "text": [
      "The largest number is 14\n"
     ]
    }
   ],
   "source": [
    "#11.Write a program in Python to find largest among three numbers.\n",
    "num1 = 10\n",
    "num2 = 14\n",
    "num3 = 12\n",
    "if (num1 >= num2) and (num1 >= num3):\n",
    "   largest = num1\n",
    "elif (num2 >= num1) and (num2 >= num3):\n",
    "   largest = num2\n",
    "else:\n",
    "   largest = num3\n",
    "\n",
    "print(\"The largest number is\", largest)\n"
   ]
  },
  {
   "cell_type": "code",
   "execution_count": 71,
   "id": "e19c863d-815f-47f1-a4f6-4a7bca19d1ca",
   "metadata": {},
   "outputs": [
    {
     "name": "stdout",
     "output_type": "stream",
     "text": [
      "Scalene Triangle\n"
     ]
    }
   ],
   "source": [
    " #12.Write a program in Python to check a triangle is equilateral,scalene or isosclees.\n",
    "def checkTriangle(x, y, z):\n",
    "\tif x == y == z:\n",
    "\t\tprint(\"Equilateral Triangle\")\n",
    "\telif x == y or y == z or z == x:\n",
    "\t\tprint(\"Isosceles Triangle\")\n",
    "\telse:\n",
    "\t\tprint(\"Scalene Triangle\")\n",
    "x = 8\n",
    "y = 7\n",
    "z = 9\n",
    "checkTriangle(x, y, z)\n",
    "\n"
   ]
  },
  {
   "cell_type": "code",
   "execution_count": 73,
   "id": "66fa72ca-4805-48fc-ace7-19586211c84c",
   "metadata": {},
   "outputs": [
    {
     "name": "stdin",
     "output_type": "stream",
     "text": [
      "Enter year to be checked: 2024\n"
     ]
    },
    {
     "name": "stdout",
     "output_type": "stream",
     "text": [
      "The year is a leap year!\n"
     ]
    }
   ],
   "source": [
    "#13.Write a program in Python to check a given year is leapyear or not.\n",
    "year=int(input(\"Enter year to be checked:\"))\n",
    "if(year%4==0 and year%100!=0 or year%400==0):\n",
    "    print(\"The year is a leap year!\")\n",
    "else:\n",
    "    print(\"The year isn't a leap year!\")"
   ]
  },
  {
   "cell_type": "code",
   "execution_count": 77,
   "id": "7889b8a8-60f8-4686-939a-029adfe413b6",
   "metadata": {},
   "outputs": [
    {
     "name": "stdin",
     "output_type": "stream",
     "text": [
      "Enter marks of the first subject:  85\n",
      "Enter marks of the second subject:  95\n",
      "Enter marks of the third subject:  99\n",
      "Enter marks of the fourth subject:  93\n",
      "Enter marks of the fifth subject:  100\n"
     ]
    },
    {
     "name": "stdout",
     "output_type": "stream",
     "text": [
      "Grade: A\n"
     ]
    }
   ],
   "source": [
    "#14.\tTake marks of a student of four different subject find average depending on average find Grade(if marks >=75 i.e,’A’ or >=60 but <=75 i.e,’B’ or >=40 but <=60 i.e,’C’ or <=40 i.e,’D’).\n",
    "sub1=int(input(\"Enter marks of the first subject: \"))\n",
    "sub2=int(input(\"Enter marks of the second subject: \"))\n",
    "sub3=int(input(\"Enter marks of the third subject: \"))\n",
    "sub4=int(input(\"Enter marks of the fourth subject: \"))\n",
    "sub5=int(input(\"Enter marks of the fifth subject: \"))\n",
    "avg=(sub1+sub2+sub3+sub4+sub4)/5\n",
    "if(avg>=90):\n",
    "    print(\"Grade: A\")\n",
    "elif(avg>=80&avg<90):\n",
    "    print(\"Grade: B\")\n",
    "elif(avg>=70&avg<80):\n",
    "    print(\"Grade: C\")\n",
    "elif(avg>=60&avg<70):\n",
    "    print(\"Grade: D\")\n",
    "else:\n",
    "    print(\"Grade: F\")"
   ]
  },
  {
   "cell_type": "code",
   "execution_count": 83,
   "id": "cc33223c-672a-4e87-809f-967e5cb9f12b",
   "metadata": {},
   "outputs": [
    {
     "name": "stdout",
     "output_type": "stream",
     "text": [
      "Select operation.\n",
      "1.Add\n",
      "2.Subtract\n",
      "3.Multiply\n",
      "4.Divide\n"
     ]
    },
    {
     "name": "stdin",
     "output_type": "stream",
     "text": [
      "Enter choice(1/2/3/4 3\n",
      "Enter first number:  15\n",
      "Enter second number:  14\n"
     ]
    },
    {
     "name": "stdout",
     "output_type": "stream",
     "text": [
      "15.0 * 14.0 = 210.0\n"
     ]
    },
    {
     "name": "stdin",
     "output_type": "stream",
     "text": [
      "Let's do next calculation? (yes/no):  yes\n",
      "Enter choice(1/2/3/4 2\n",
      "Enter first number:  50\n",
      "Enter second number:  10\n"
     ]
    },
    {
     "name": "stdout",
     "output_type": "stream",
     "text": [
      "50.0 - 10.0 = 40.0\n"
     ]
    },
    {
     "name": "stdin",
     "output_type": "stream",
     "text": [
      "Let's do next calculation? (yes/no):  no\n"
     ]
    }
   ],
   "source": [
    "#15.Write a program in Python to implement a simple calculator\n",
    "def add(x, y):\n",
    "    return x + y\n",
    "def subtract(x, y):\n",
    "    return x - y\n",
    "def multiply(x, y):\n",
    "    return x * y\n",
    "def divide(x, y):\n",
    "    return x / y\n",
    "print(\"Select operation.\")\n",
    "print(\"1.Add\")\n",
    "print(\"2.Subtract\")\n",
    "print(\"3.Multiply\")\n",
    "print(\"4.Divide\")\n",
    "\n",
    "while True:\n",
    "    choice = input(\"Enter choice(1/2/3/4\") \n",
    "    if choice in ('1', '2', '3', '4'):\n",
    "        try:\n",
    "            num1 = float(input(\"Enter first number: \"))\n",
    "            num2 = float(input(\"Enter second number: \"))\n",
    "        except ValueError:\n",
    "            print(\"Invalid input. Please enter a number.\")\n",
    "            continue\n",
    "\n",
    "        if choice == '1':\n",
    "            print(num1, \"+\", num2, \"=\", add(num1, num2))\n",
    "\n",
    "        elif choice == '2':\n",
    "            print(num1, \"-\", num2, \"=\", subtract(num1, num2))\n",
    "\n",
    "        elif choice == '3':\n",
    "            print(num1, \"*\", num2, \"=\", multiply(num1, num2))\n",
    "\n",
    "        elif choice == '4':\n",
    "            print(num1, \"/\", num2, \"=\", divide(num1, num2))\n",
    "        next_calculation = input(\"Let's do next calculation? (yes/no): \")\n",
    "        if next_calculation == \"no\":\n",
    "          break\n",
    "    else:\n",
    "        print(\"Invalid Input\")"
   ]
  },
  {
   "cell_type": "code",
   "execution_count": 87,
   "id": "000d8290-8d34-435b-8aef-aba777360111",
   "metadata": {},
   "outputs": [
    {
     "name": "stdout",
     "output_type": "stream",
     "text": [
      "Equation: ax^2 + bx + c \n"
     ]
    },
    {
     "name": "stdin",
     "output_type": "stream",
     "text": [
      "Enter a:  5\n",
      "Enter b:  6\n",
      "Enter c:  7\n"
     ]
    },
    {
     "name": "stdout",
     "output_type": "stream",
     "text": [
      "The roots are imaginary. \n"
     ]
    }
   ],
   "source": [
    "#16.\tWrite a program in Python to find the roots of Quadratic equation.\n",
    "print(\"Equation: ax^2 + bx + c \")\n",
    "a=int(input(\"Enter a: \"))\n",
    "b=int(input(\"Enter b: \"))\n",
    "c=int(input(\"Enter c: \"))\n",
    "d=b**2-4*a*c\n",
    "d1=d**0.5\n",
    "if(d<0):\n",
    "    print(\"The roots are imaginary. \")\n",
    "else:\n",
    "    r1=(-b+d1)/2*a\n",
    "    r2=(-b-d1)/2*a\n",
    "    print(\"The first root: \",round(r1,2))\n",
    "    print(\"The second root: \",round(r2,2))"
   ]
  },
  {
   "cell_type": "code",
   "execution_count": 91,
   "id": "badfb38d-9c52-4bde-ae14-9f54ae28c6d0",
   "metadata": {},
   "outputs": [
    {
     "name": "stdin",
     "output_type": "stream",
     "text": [
      "Enter the value of n:  10\n"
     ]
    },
    {
     "name": "stdout",
     "output_type": "stream",
     "text": [
      "1\n",
      "2\n",
      "3\n",
      "4\n",
      "5\n",
      "6\n",
      "7\n",
      "8\n",
      "9\n",
      "10\n"
     ]
    }
   ],
   "source": [
    "#17.\tWrite a program in Python to print 1 to n.\n",
    "def print_numbers(n):\n",
    "    for i in range(1, n + 1):\n",
    "        print(i)\n",
    "n = int(input(\"Enter the value of n: \"))\n",
    "print_numbers(n)\n"
   ]
  },
  {
   "cell_type": "code",
   "execution_count": 95,
   "id": "51c8a2fd-c8b4-4a02-b0cb-984b122750d5",
   "metadata": {},
   "outputs": [
    {
     "name": "stdout",
     "output_type": "stream",
     "text": [
      "The sum is 210\n"
     ]
    }
   ],
   "source": [
    "#18.\tWrite a program in Python to print sum of natural number.\n",
    "num = 20\n",
    "if num < 0:\n",
    "   print(\"Enter a positive number\")\n",
    "else:\n",
    "   sum = 0\n",
    "   # use while loop to iterate until zero\n",
    "   while(num > 0):\n",
    "       sum += num\n",
    "       num -= 1\n",
    "   print(\"The sum is\", sum)\n"
   ]
  },
  {
   "cell_type": "code",
   "execution_count": 97,
   "id": "56db934e-ce10-40c2-b748-bbd2c1987f61",
   "metadata": {},
   "outputs": [
    {
     "name": "stdout",
     "output_type": "stream",
     "text": [
      "15\n"
     ]
    }
   ],
   "source": [
    "#19.\tWrite a program in Python to print Sum of Digit.\n",
    "def getSum(n): \n",
    "   \n",
    "    sum = 0\n",
    "    for digit in str(n):  \n",
    "      sum += int(digit)       \n",
    "    return sum\n",
    "  \n",
    "n = 12345\n",
    "print(getSum(n))\n"
   ]
  },
  {
   "cell_type": "code",
   "execution_count": 99,
   "id": "9f527d4f-46a9-4784-a5c0-6f24b18109d9",
   "metadata": {},
   "outputs": [
    {
     "name": "stdout",
     "output_type": "stream",
     "text": [
      "The factors of 320 are:\n",
      "1\n",
      "2\n",
      "4\n",
      "5\n",
      "8\n",
      "10\n",
      "16\n",
      "20\n",
      "32\n",
      "40\n",
      "64\n",
      "80\n",
      "160\n",
      "320\n"
     ]
    }
   ],
   "source": [
    "#20.\tWrite a program in Python to print Factors of a Number.\n",
    "def print_factors(x):\n",
    "   print(\"The factors of\",x,\"are:\")\n",
    "   for i in range(1, x + 1):\n",
    "       if x % i == 0:\n",
    "           print(i)\n",
    "num = 320\n",
    "print_factors(num)\n"
   ]
  },
  {
   "cell_type": "code",
   "execution_count": 103,
   "id": "3a6ba7de-c85b-4d3a-9aa3-6c3293e1737f",
   "metadata": {},
   "outputs": [
    {
     "name": "stdout",
     "output_type": "stream",
     "text": [
      "Reversed Number: 654321\n"
     ]
    }
   ],
   "source": [
    "#21.\tWrite a program in Python to print Reverse of a Number.\n",
    "num =123456\n",
    "reversed_num = 0\n",
    "while num != 0:\n",
    "    digit = num % 10\n",
    "    reversed_num = reversed_num * 10 + digit\n",
    "    num //= 10\n",
    "print(\"Reversed Number: \" + str(reversed_num))"
   ]
  },
  {
   "cell_type": "code",
   "execution_count": 105,
   "id": "ac786f94-09dd-40de-aa75-32214c8f8c3c",
   "metadata": {},
   "outputs": [
    {
     "name": "stdout",
     "output_type": "stream",
     "text": [
      "The factorial of 6 is 720\n"
     ]
    }
   ],
   "source": [
    "#22.\tWrite a Python program to find Factorial of a given number.\n",
    "num = 6\n",
    "factorial = 1\n",
    "for i in range(1, num + 1):\n",
    "    factorial *= i\n",
    "print(f\"The factorial of {num} is {factorial}\")\n"
   ]
  },
  {
   "cell_type": "code",
   "execution_count": 117,
   "id": "7087b866-27a6-4b6a-bfbb-8fb260359585",
   "metadata": {},
   "outputs": [
    {
     "name": "stdout",
     "output_type": "stream",
     "text": [
      "Palindrome\n"
     ]
    }
   ],
   "source": [
    "#23.\tWrite a Python program to check a number is palindrome or not.\n",
    "num = 121\n",
    "temp = num\n",
    "reverse = 0\n",
    "while temp > 0:\n",
    "    remainder = temp % 10\n",
    "    reverse = (reverse * 10) + remainder\n",
    "    temp = temp // 10\n",
    "if num == reverse:\n",
    "  print('Palindrome')\n",
    "else:\n",
    "  print(\"Not Palindrome\")"
   ]
  },
  {
   "cell_type": "code",
   "execution_count": 121,
   "id": "c3895209-b7be-427a-b8fc-ac0124752ed8",
   "metadata": {},
   "outputs": [
    {
     "name": "stdout",
     "output_type": "stream",
     "text": [
      "11 is a prime number\n"
     ]
    }
   ],
   "source": [
    "#24.\tWrite a Python program to check a number is prime or not.\n",
    "num = 11\n",
    "if num > 1:\n",
    "    for i in range(2, (num//2)+1):\n",
    "        if (num % i) == 0:\n",
    "            print(num, \"is not a prime number\")\n",
    "            break\n",
    "    else:\n",
    "        print(num, \"is a prime number\")\n",
    "else:\n",
    "    print(num, \"is not a prime number\")\n"
   ]
  },
  {
   "cell_type": "code",
   "execution_count": 123,
   "id": "8e143992-b8c9-4970-af5c-e513585f06ee",
   "metadata": {},
   "outputs": [
    {
     "name": "stdin",
     "output_type": "stream",
     "text": [
      "Enter a number:  15\n"
     ]
    },
    {
     "name": "stdout",
     "output_type": "stream",
     "text": [
      "15 is not an Armstrong number\n"
     ]
    }
   ],
   "source": [
    "#25.\tWrite a Python program to check a number is Armstrong or not.\n",
    "num = int(input(\"Enter a number: \"))\n",
    "sum = 0\n",
    "temp = num\n",
    "while temp > 0:\n",
    "   digit = temp % 10\n",
    "   sum += digit ** 3\n",
    "   temp //= 10\n",
    "if num == sum:\n",
    "   print(num,\"is an Armstrong number\")\n",
    "else:\n",
    "   print(num,\"is not an Armstrong number\")\n"
   ]
  },
  {
   "cell_type": "code",
   "execution_count": 127,
   "id": "0c7e16d1-d40c-4e1d-bef1-d6bfcff3eba3",
   "metadata": {},
   "outputs": [
    {
     "name": "stdout",
     "output_type": "stream",
     "text": [
      "34\n"
     ]
    }
   ],
   "source": [
    "#26.\tWrite a Python program to print Fibonacci series of n term\n",
    "def Fibonacci(n):\n",
    "\tif n<= 0:\n",
    "\t\tprint(\"Incorrect input\")\n",
    "\telif n == 1:\n",
    "\t\treturn 0\n",
    "\telif n == 2:\n",
    "\t\treturn 1\n",
    "\telse:\n",
    "\t\treturn Fibonacci(n-1)+Fibonacci(n-2)\n",
    "print(Fibonacci(10))\n"
   ]
  },
  {
   "cell_type": "code",
   "execution_count": 131,
   "id": "7f96987a-ea3c-4d37-b6c3-7ba2a59446b7",
   "metadata": {},
   "outputs": [
    {
     "name": "stdout",
     "output_type": "stream",
     "text": [
      "15 x 1 = 15\n",
      "15 x 2 = 30\n",
      "15 x 3 = 45\n",
      "15 x 4 = 60\n",
      "15 x 5 = 75\n",
      "15 x 6 = 90\n",
      "15 x 7 = 105\n",
      "15 x 8 = 120\n",
      "15 x 9 = 135\n",
      "15 x 10 = 150\n"
     ]
    }
   ],
   "source": [
    "#27.\tWrite a Python program to implement multiplication table.\n",
    "num = 15\n",
    "for i in range(1, 11):\n",
    "   print(num, 'x', i, '=', num*i)\n"
   ]
  },
  {
   "cell_type": "code",
   "execution_count": 135,
   "id": "c07e2e81-5447-4c42-b39e-ae4023afb15d",
   "metadata": {},
   "outputs": [
    {
     "name": "stdin",
     "output_type": "stream",
     "text": [
      "Enter number of elements :  5\n",
      " 12\n",
      " 45\n",
      " 78\n",
      " 15\n",
      " 42\n"
     ]
    },
    {
     "name": "stdout",
     "output_type": "stream",
     "text": [
      "[12, 45, 78, 15, 42]\n"
     ]
    }
   ],
   "source": [
    "#28.\tWrite a Python program to take a input from user in a list and print it.\n",
    "lst = []\n",
    "n = int(input(\"Enter number of elements : \"))\n",
    "for i in range(0, n):\n",
    "\tele = int(input())\n",
    "\tlst.append(ele) \n",
    "print(lst)\n"
   ]
  },
  {
   "cell_type": "code",
   "execution_count": 9,
   "id": "dc0b957e-41aa-4d3e-97a4-e6db93aea57f",
   "metadata": {},
   "outputs": [
    {
     "name": "stdin",
     "output_type": "stream",
     "text": [
      "Enter the number of elements:  5\n",
      "Enter number 1:  1\n",
      "Enter number 2:  12\n",
      "Enter number 3:  22\n",
      "Enter number 4:  23\n",
      "Enter number 5:  45\n"
     ]
    },
    {
     "name": "stdout",
     "output_type": "stream",
     "text": [
      "The average of the entered numbers is: 20.6\n"
     ]
    }
   ],
   "source": [
    "#29.\tWrite a Python program to find the average of n numbers using list.\n",
    "numbers = []\n",
    "n = int(input(\"Enter the number of elements: \"))\n",
    "for i in range(n):\n",
    "    num = float(input(f\"Enter number {i+1}: \"))\n",
    "    numbers.append(num)\n",
    "average = sum(numbers) / n\n",
    "print(f\"The average of the entered numbers is: {average}\")\n"
   ]
  },
  {
   "cell_type": "code",
   "execution_count": 3,
   "id": "9994f44e-46dc-4875-81c7-88c273b4f8aa",
   "metadata": {},
   "outputs": [
    {
     "name": "stdout",
     "output_type": "stream",
     "text": [
      "Largest element is: 99\n"
     ]
    }
   ],
   "source": [
    "#30.\tWrite a Python program to find the largest element in the list.\n",
    "list1 = [10, 20, 4, 45, 99]\n",
    "sorted(list1)\n",
    "print(\"Largest element is:\", list1[-1])\n"
   ]
  },
  {
   "cell_type": "code",
   "execution_count": 147,
   "id": "3ce9d5c6-e50f-4ad7-b5a0-4f24a8bd36bd",
   "metadata": {},
   "outputs": [
    {
     "name": "stdout",
     "output_type": "stream",
     "text": [
      "Element found at index:  4\n"
     ]
    }
   ],
   "source": [
    "#31.\tWrite a Python program to perform Linear search.\n",
    "def linearSearch(array, n, x):\n",
    "    for i in range(0, n):\n",
    "        if (array[i] == x):\n",
    "            return i\n",
    "    return -1\n",
    "array = [2, 4, 0, 1, 9]\n",
    "x = 9\n",
    "n = len(array)\n",
    "result = linearSearch(array, n, x)\n",
    "if(result == -1):\n",
    "    print(\"Element not found\")\n",
    "else:\n",
    "    print(\"Element found at index: \", result)"
   ]
  },
  {
   "cell_type": "code",
   "execution_count": 159,
   "id": "31b600b3-da20-4d87-ac77-f91c7a114557",
   "metadata": {},
   "outputs": [
    {
     "name": "stdout",
     "output_type": "stream",
     "text": [
      "Enter your sentences (press Enter without typing to finish input):\n"
     ]
    },
    {
     "name": "stdin",
     "output_type": "stream",
     "text": [
      " hello world\n",
      " practice makes perfect\n",
      " \n"
     ]
    },
    {
     "name": "stdout",
     "output_type": "stream",
     "text": [
      "\n",
      "Output:\n",
      "HELLO WORLD\n",
      "PRACTICE MAKES PERFECT\n"
     ]
    }
   ],
   "source": [
    "#32.\tWrite a program that accepts sequence of lines as input and prints the lines after making all characters in the sentence capitalized.\n",
    "#Suppose the following input is supplied to the program:\n",
    "#Hello world Practice makes perfectThen, the output should be:HELLO WORLD PRACTICE MAKES PERFECT\n",
    "lines = []\n",
    "print(\"Enter your sentences (press Enter without typing to finish input):\")\n",
    "while True:\n",
    "    line = input()\n",
    "    if line: \n",
    "        lines.append(line)\n",
    "    else:\n",
    "        break \n",
    "print(\"\\nOutput:\")\n",
    "for line in lines:\n",
    "    print(line.upper())\n"
   ]
  },
  {
   "cell_type": "code",
   "execution_count": 1,
   "id": "1be91f14-b1d6-4231-ae08-08dfe88466a4",
   "metadata": {},
   "outputs": [
    {
     "name": "stdin",
     "output_type": "stream",
     "text": [
      "Enter comma-separated numbers:  34,67,55,33,12,98\n"
     ]
    },
    {
     "name": "stdout",
     "output_type": "stream",
     "text": [
      "List: ['34', '67', '55', '33', '12', '98']\n",
      "Tuple: ('34', '67', '55', '33', '12', '98')\n"
     ]
    }
   ],
   "source": [
    "#33.\tWrite a program which accepts a sequence of comma‐separated numbers from console and generate a list and a tuple which contains every number.\n",
    "input_data = input(\"Enter comma-separated numbers: \")\n",
    "numbers_list = input_data.split(\",\")\n",
    "numbers_tuple = tuple(numbers_list)\n",
    "print(\"List:\", numbers_list)\n",
    "print(\"Tuple:\", numbers_tuple)\n"
   ]
  },
  {
   "cell_type": "code",
   "execution_count": 11,
   "id": "caee0cb8-08af-4077-a2bd-343bbc5cf28c",
   "metadata": {},
   "outputs": [
    {
     "name": "stdin",
     "output_type": "stream",
     "text": [
      " D 100\n",
      " D 300\n",
      " D 100\n",
      " d 200\n",
      " \n"
     ]
    },
    {
     "name": "stdout",
     "output_type": "stream",
     "text": [
      "Net amount: 500\n"
     ]
    }
   ],
   "source": [
    "#34.\tWrite a program that computes the net amount of a bank account based a transaction log from console input.\n",
    "net_amount = 0\n",
    "while True:\n",
    "    transaction = input()\n",
    "    if not transaction:\n",
    "        break\n",
    "    transaction_type, amount = transaction.split()\n",
    "    amount = int(amount)\n",
    "    if transaction_type == 'D':\n",
    "        net_amount += amount\n",
    "    elif transaction_type == 'W':\n",
    "        net_amount -= amount\n",
    "\n",
    "print(f\"Net amount: {net_amount}\")"
   ]
  },
  {
   "cell_type": "code",
   "execution_count": null,
   "id": "08b42713-db94-4b0e-93c9-0b7e5e266291",
   "metadata": {},
   "outputs": [],
   "source": []
  }
 ],
 "metadata": {
  "kernelspec": {
   "display_name": "Python 3 (ipykernel)",
   "language": "python",
   "name": "python3"
  },
  "language_info": {
   "codemirror_mode": {
    "name": "ipython",
    "version": 3
   },
   "file_extension": ".py",
   "mimetype": "text/x-python",
   "name": "python",
   "nbconvert_exporter": "python",
   "pygments_lexer": "ipython3",
   "version": "3.12.4"
  }
 },
 "nbformat": 4,
 "nbformat_minor": 5
}
